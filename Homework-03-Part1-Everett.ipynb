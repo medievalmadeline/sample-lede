{
 "cells": [
  {
   "cell_type": "code",
   "execution_count": 2,
   "id": "1f797d1a",
   "metadata": {},
   "outputs": [
    {
     "name": "stdout",
     "output_type": "stream",
     "text": [
      "The url of the documentation is: https://pokeapi.co/docs/v2\n"
     ]
    }
   ],
   "source": [
    "\n",
    "#     What is the URL to the documentation?\n",
    "print('The url of the documentation is: https://pokeapi.co/docs/v2')"
   ]
  },
  {
   "cell_type": "code",
   "execution_count": 5,
   "id": "f725bdb8",
   "metadata": {},
   "outputs": [
    {
     "name": "stdout",
     "output_type": "stream",
     "text": [
      "Golduck has an ID of 55 (url search: https://pokeapi.co/api/v2/pokemon/55/)\n"
     ]
    }
   ],
   "source": [
    "#     What pokemon has the ID of 55?\n",
    "print('Golduck has an ID of 55 (api search: https://pokeapi.co/api/v2/pokemon/55/)')"
   ]
  },
  {
   "cell_type": "code",
   "execution_count": 10,
   "id": "a15c54ec",
   "metadata": {},
   "outputs": [
    {
     "name": "stdout",
     "output_type": "stream",
     "text": [
      "Golduck's height is: 17\n"
     ]
    }
   ],
   "source": [
    "#     How tall is that pokemon?\n",
    "import requests\n",
    "url = 'https://pokeapi.co/api/v2/pokemon/55/'\n",
    "response = requests.get(url)\n",
    "golduck = response.json()\n",
    "\n",
    "golduck_height = golduck['height']\n",
    "print(\"Golduck's height is:\", golduck_height)"
   ]
  },
  {
   "cell_type": "code",
   "execution_count": 12,
   "id": "12438b8e",
   "metadata": {},
   "outputs": [
    {
     "name": "stdout",
     "output_type": "stream",
     "text": [
      "There have been 43 versions of Pokemon games released (from api search: https://pokeapi.co/api/v2/version/)\n"
     ]
    }
   ],
   "source": [
    "#     How many versions of Pokemon games have been released?\n",
    "print('There have been 43 versions of Pokemon games released (from api search: https://pokeapi.co/api/v2/version/)')"
   ]
  },
  {
   "cell_type": "code",
   "execution_count": 15,
   "id": "58d1321d",
   "metadata": {},
   "outputs": [
    {
     "name": "stdout",
     "output_type": "stream",
     "text": [
      "dict_keys(['damage_relations', 'game_indices', 'generation', 'id', 'move_damage_class', 'moves', 'name', 'names', 'past_damage_relations', 'pokemon'])\n"
     ]
    }
   ],
   "source": [
    "\n",
    "#     Print out the name of every electric-type pokemon.\n",
    "import requests\n",
    "url = 'https://pokeapi.co/api/v2/type/electric'\n",
    "response = requests. get(url)\n",
    "electric = response.json()\n",
    "print(electric.keys())\n",
    "\n"
   ]
  },
  {
   "cell_type": "code",
   "execution_count": 19,
   "id": "a2f6dd54",
   "metadata": {},
   "outputs": [
    {
     "name": "stdout",
     "output_type": "stream",
     "text": [
      "pikachu\n",
      "raichu\n",
      "magnemite\n",
      "magneton\n",
      "voltorb\n",
      "electrode\n",
      "electabuzz\n",
      "jolteon\n",
      "zapdos\n",
      "chinchou\n",
      "lanturn\n",
      "pichu\n",
      "mareep\n",
      "flaaffy\n",
      "ampharos\n",
      "elekid\n",
      "raikou\n",
      "electrike\n",
      "manectric\n",
      "plusle\n",
      "minun\n",
      "shinx\n",
      "luxio\n",
      "luxray\n",
      "pachirisu\n",
      "magnezone\n",
      "electivire\n",
      "rotom\n",
      "blitzle\n",
      "zebstrika\n",
      "emolga\n",
      "joltik\n",
      "galvantula\n",
      "tynamo\n",
      "eelektrik\n",
      "eelektross\n",
      "stunfisk\n",
      "thundurus-incarnate\n",
      "zekrom\n",
      "helioptile\n",
      "heliolisk\n",
      "dedenne\n",
      "charjabug\n",
      "vikavolt\n",
      "togedemaru\n",
      "tapu-koko\n",
      "xurkitree\n",
      "zeraora\n",
      "yamper\n",
      "boltund\n",
      "toxel\n",
      "toxtricity-amped\n",
      "pincurchin\n",
      "morpeko-full-belly\n",
      "dracozolt\n",
      "arctozolt\n",
      "regieleki\n",
      "pawmi\n",
      "pawmo\n",
      "pawmot\n",
      "tadbulb\n",
      "bellibolt\n",
      "wattrel\n",
      "kilowattrel\n",
      "sandy-shocks\n",
      "iron-hands\n",
      "iron-thorns\n",
      "miraidon\n",
      "rotom-heat\n",
      "rotom-wash\n",
      "rotom-frost\n",
      "rotom-fan\n",
      "rotom-mow\n",
      "thundurus-therian\n",
      "ampharos-mega\n",
      "manectric-mega\n",
      "pikachu-rock-star\n",
      "pikachu-belle\n",
      "pikachu-pop-star\n",
      "pikachu-phd\n",
      "pikachu-libre\n",
      "pikachu-cosplay\n",
      "pikachu-original-cap\n",
      "pikachu-hoenn-cap\n",
      "pikachu-sinnoh-cap\n",
      "pikachu-unova-cap\n",
      "pikachu-kalos-cap\n",
      "pikachu-alola-cap\n",
      "raichu-alola\n",
      "geodude-alola\n",
      "graveler-alola\n",
      "golem-alola\n",
      "vikavolt-totem\n",
      "oricorio-pom-pom\n",
      "pikachu-partner-cap\n",
      "togedemaru-totem\n",
      "pikachu-starter\n",
      "pikachu-world-cap\n",
      "toxtricity-low-key\n",
      "morpeko-hangry\n",
      "pikachu-gmax\n",
      "toxtricity-amped-gmax\n",
      "toxtricity-low-key-gmax\n",
      "voltorb-hisui\n",
      "electrode-hisui\n",
      "miraidon-low-power-mode\n",
      "miraidon-drive-mode\n",
      "miraidon-aquatic-mode\n",
      "miraidon-glide-mode\n"
     ]
    }
   ],
   "source": [
    "for poke in electric['pokemon']:\n",
    "    print(poke['pokemon']['name'])"
   ]
  },
  {
   "cell_type": "code",
   "execution_count": 21,
   "id": "0d00efa9",
   "metadata": {},
   "outputs": [
    {
     "name": "stdout",
     "output_type": "stream",
     "text": [
      "Electric type Pokes are called 전기 in Korean\n"
     ]
    }
   ],
   "source": [
    "#     What are electric-type Pokemon called in the Korean version of the game? (i.e. what do they call electric-type pokemon in Korean if not \"electric\")\n",
    "\n",
    "for name in electric['names']:\n",
    "    if name['language']['name'] == 'ko':\n",
    "        korean_electric = name['name']\n",
    "        print('Electric type Pokes are called', korean_electric, 'in Korean')"
   ]
  },
  {
   "cell_type": "code",
   "execution_count": 38,
   "id": "d9ffd9d4",
   "metadata": {},
   "outputs": [
    {
     "name": "stdout",
     "output_type": "stream",
     "text": [
      "Pikachu has a higer speed than Eevee\n"
     ]
    }
   ],
   "source": [
    "#     Who has a higher speed stat, Eevee or Pikachu?\n",
    "import requests\n",
    "url = 'https://pokeapi.co/api/v2/pokemon/eevee'\n",
    "response = requests.get(url)\n",
    "eevee = response.json()\n",
    "\n",
    "\n",
    "import requests\n",
    "url = 'https://pokeapi.co/api/v2/pokemon/pikachu'\n",
    "response = requests.get(url)\n",
    "pikachu = response.json()\n",
    "\n",
    "\n",
    "for stat in pikachu['stats']:\n",
    "    if stat['stat']['name'] == 'speed':\n",
    "        pika_speed = stat['base_stat']\n",
    "        \n",
    "for stat in eevee['stats']:\n",
    "    if stat['stat']['name'] == 'speed':\n",
    "        eevee_speed = stat['base_stat']\n",
    "        \n",
    "if eevee_speed > pika_speed:\n",
    "    print(\"Eevee has a higher speed than Pikachu\")\n",
    "else:\n",
    "    print('Pikachu has a higher speed than Eevee')"
   ]
  },
  {
   "cell_type": "code",
   "execution_count": null,
   "id": "58d0aa74",
   "metadata": {},
   "outputs": [],
   "source": []
  }
 ],
 "metadata": {
  "kernelspec": {
   "display_name": "Python 3 (ipykernel)",
   "language": "python",
   "name": "python3"
  },
  "language_info": {
   "codemirror_mode": {
    "name": "ipython",
    "version": 3
   },
   "file_extension": ".py",
   "mimetype": "text/x-python",
   "name": "python",
   "nbconvert_exporter": "python",
   "pygments_lexer": "ipython3",
   "version": "3.10.11"
  }
 },
 "nbformat": 4,
 "nbformat_minor": 5
}
